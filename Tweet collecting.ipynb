{
 "cells": [
  {
   "cell_type": "code",
   "execution_count": 1,
   "metadata": {
    "scrolled": true
   },
   "outputs": [],
   "source": [
    "import tweepy as tw\n",
    "import pandas as pd\n",
    "import snscrape.modules.twitter as sntwitter"
   ]
  },
  {
   "cell_type": "code",
   "execution_count": 2,
   "metadata": {},
   "outputs": [],
   "source": [
    "consumer_key= 'xxxxxxx'\n",
    "consumer_secret= 'xxxxxxx'\n",
    "access_token= 'xxxxxxx'\n",
    "access_token_secret= 'xxxxxxx'\n",
    "\n",
    "auth = tw.OAuthHandler(consumer_key, consumer_secret)\n",
    "auth.set_access_token(access_token, access_token_secret)\n",
    "api = tw.API(auth, wait_on_rate_limit=True)"
   ]
  },
  {
   "cell_type": "markdown",
   "metadata": {},
   "source": [
    "### **The basic method to pull tweet using Twitter API**"
   ]
  },
  {
   "cell_type": "code",
   "execution_count": 3,
   "metadata": {},
   "outputs": [
    {
     "data": {
      "text/html": [
       "<div>\n",
       "<style scoped>\n",
       "    .dataframe tbody tr th:only-of-type {\n",
       "        vertical-align: middle;\n",
       "    }\n",
       "\n",
       "    .dataframe tbody tr th {\n",
       "        vertical-align: top;\n",
       "    }\n",
       "\n",
       "    .dataframe thead th {\n",
       "        text-align: right;\n",
       "    }\n",
       "</style>\n",
       "<table border=\"1\" class=\"dataframe\">\n",
       "  <thead>\n",
       "    <tr style=\"text-align: right;\">\n",
       "      <th></th>\n",
       "      <th>id</th>\n",
       "      <th>date</th>\n",
       "      <th>tweet</th>\n",
       "    </tr>\n",
       "  </thead>\n",
       "  <tbody>\n",
       "    <tr>\n",
       "      <th>0</th>\n",
       "      <td>1438196936016809987</td>\n",
       "      <td>2021-09-15 17:44:04</td>\n",
       "      <td>Miami LeBron was on a MISSION. 😤🔥 (via @Courts...</td>\n",
       "    </tr>\n",
       "    <tr>\n",
       "      <th>1</th>\n",
       "      <td>1438529411784101898</td>\n",
       "      <td>2021-09-16 15:45:13</td>\n",
       "      <td>Blake Griffin is right. LeBron James wasn’t th...</td>\n",
       "    </tr>\n",
       "    <tr>\n",
       "      <th>2</th>\n",
       "      <td>1438285444756779013</td>\n",
       "      <td>2021-09-15 23:35:46</td>\n",
       "      <td>Russ and LeBron getting that offseason work in...</td>\n",
       "    </tr>\n",
       "    <tr>\n",
       "      <th>3</th>\n",
       "      <td>1438686807256879104</td>\n",
       "      <td>2021-09-17 02:10:39</td>\n",
       "      <td>RT @INBBallSource: I'm ready to see players li...</td>\n",
       "    </tr>\n",
       "    <tr>\n",
       "      <th>4</th>\n",
       "      <td>1438686799795298305</td>\n",
       "      <td>2021-09-17 02:10:37</td>\n",
       "      <td>RT @RussTakeover: This man now has LEBRON JAME...</td>\n",
       "    </tr>\n",
       "  </tbody>\n",
       "</table>\n",
       "</div>"
      ],
      "text/plain": [
       "                    id                date  \\\n",
       "0  1438196936016809987 2021-09-15 17:44:04   \n",
       "1  1438529411784101898 2021-09-16 15:45:13   \n",
       "2  1438285444756779013 2021-09-15 23:35:46   \n",
       "3  1438686807256879104 2021-09-17 02:10:39   \n",
       "4  1438686799795298305 2021-09-17 02:10:37   \n",
       "\n",
       "                                               tweet  \n",
       "0  Miami LeBron was on a MISSION. 😤🔥 (via @Courts...  \n",
       "1  Blake Griffin is right. LeBron James wasn’t th...  \n",
       "2  Russ and LeBron getting that offseason work in...  \n",
       "3  RT @INBBallSource: I'm ready to see players li...  \n",
       "4  RT @RussTakeover: This man now has LEBRON JAME...  "
      ]
     },
     "execution_count": 3,
     "metadata": {},
     "output_type": "execute_result"
    }
   ],
   "source": [
    "search_word = 'Lebron'\n",
    "\n",
    "tweets = tw.Cursor(api.search,q=search_word,\n",
    "                           lang=\"en\",               # search for only English tweet\n",
    "                           since='2021-08-07',\n",
    "                           tweet_mode='extended',   # we want the full tweet text, default setting will hide part of the tweet if it's too long\n",
    "                           result_type='mixed'    # three option: popular, recent, or mixed\n",
    "                  ).items(100)\n",
    "\n",
    "tweets_list = [[tweet.id, tweet.created_at, tweet.full_text] for tweet in tweets]\n",
    "\n",
    "pd.DataFrame(tweets_list,columns=['id','date','tweet']).head()"
   ]
  },
  {
   "cell_type": "markdown",
   "metadata": {},
   "source": [
    "### **The basic code to scrape tweets using snscrape library**"
   ]
  },
  {
   "cell_type": "code",
   "execution_count": 4,
   "metadata": {},
   "outputs": [
    {
     "data": {
      "text/html": [
       "<div>\n",
       "<style scoped>\n",
       "    .dataframe tbody tr th:only-of-type {\n",
       "        vertical-align: middle;\n",
       "    }\n",
       "\n",
       "    .dataframe tbody tr th {\n",
       "        vertical-align: top;\n",
       "    }\n",
       "\n",
       "    .dataframe thead th {\n",
       "        text-align: right;\n",
       "    }\n",
       "</style>\n",
       "<table border=\"1\" class=\"dataframe\">\n",
       "  <thead>\n",
       "    <tr style=\"text-align: right;\">\n",
       "      <th></th>\n",
       "      <th>id</th>\n",
       "      <th>date</th>\n",
       "      <th>tweet</th>\n",
       "    </tr>\n",
       "  </thead>\n",
       "  <tbody>\n",
       "    <tr>\n",
       "      <th>0</th>\n",
       "      <td>1420896918494928897</td>\n",
       "      <td>2021-07-29 23:59:59+00:00</td>\n",
       "      <td>I’ve been waiting all day to watch tonight’s #...</td>\n",
       "    </tr>\n",
       "    <tr>\n",
       "      <th>1</th>\n",
       "      <td>1420896917140213765</td>\n",
       "      <td>2021-07-29 23:59:58+00:00</td>\n",
       "      <td>@usatodaysports @_janiereed Well said.  I real...</td>\n",
       "    </tr>\n",
       "    <tr>\n",
       "      <th>2</th>\n",
       "      <td>1420896915089084418</td>\n",
       "      <td>2021-07-29 23:59:58+00:00</td>\n",
       "      <td>@Nguyen_anime3 Read this instead…Yay for the f...</td>\n",
       "    </tr>\n",
       "    <tr>\n",
       "      <th>3</th>\n",
       "      <td>1420896910156591106</td>\n",
       "      <td>2021-07-29 23:59:57+00:00</td>\n",
       "      <td>@Karensk8ergirl 😰August16～&amp;amp;September💉I liv...</td>\n",
       "    </tr>\n",
       "    <tr>\n",
       "      <th>4</th>\n",
       "      <td>1420896907690483715</td>\n",
       "      <td>2021-07-29 23:59:56+00:00</td>\n",
       "      <td>Is it just me, or does it bother anyone that t...</td>\n",
       "    </tr>\n",
       "  </tbody>\n",
       "</table>\n",
       "</div>"
      ],
      "text/plain": [
       "                    id                      date  \\\n",
       "0  1420896918494928897 2021-07-29 23:59:59+00:00   \n",
       "1  1420896917140213765 2021-07-29 23:59:58+00:00   \n",
       "2  1420896915089084418 2021-07-29 23:59:58+00:00   \n",
       "3  1420896910156591106 2021-07-29 23:59:57+00:00   \n",
       "4  1420896907690483715 2021-07-29 23:59:56+00:00   \n",
       "\n",
       "                                               tweet  \n",
       "0  I’ve been waiting all day to watch tonight’s #...  \n",
       "1  @usatodaysports @_janiereed Well said.  I real...  \n",
       "2  @Nguyen_anime3 Read this instead…Yay for the f...  \n",
       "3  @Karensk8ergirl 😰August16～&amp;September💉I liv...  \n",
       "4  Is it just me, or does it bother anyone that t...  "
      ]
     },
     "execution_count": 4,
     "metadata": {},
     "output_type": "execute_result"
    }
   ],
   "source": [
    "tweets_list=[]\n",
    "\n",
    "for i,tweet in enumerate(sntwitter.TwitterSearchScraper('olympics -filter:retweets since:2021-07-29 until:2021-07-30 lang:en').get_items()):\n",
    "    if i>=100:       # the max count we want\n",
    "        break\n",
    "    tweets_list.append([tweet.id,tweet.date,tweet.content])\n",
    "    \n",
    "pd.DataFrame(tweets_list,columns=['id','date','tweet']).head()"
   ]
  },
  {
   "cell_type": "markdown",
   "metadata": {},
   "source": [
    "### **This is the method we used to pull tweets, which mixes in both methods above**"
   ]
  },
  {
   "cell_type": "code",
   "execution_count": 5,
   "metadata": {},
   "outputs": [],
   "source": [
    "def get_tweet(query,date,date1,maxcount):\n",
    "    \n",
    "    '''\n",
    "    Enter the query, start & end date, the max tweet count we want within the period\n",
    "    '''\n",
    "    \n",
    "    # use the Twitter API approach first, if if pull enough tweets then stop right away\n",
    "    \n",
    "    tweets= tw.Cursor(api.search,\n",
    "                      q=query+' -filter:retweets',\n",
    "                      count=500,\n",
    "                      lang=\"en\",\n",
    "                      since=date,\n",
    "                      until=date1,\n",
    "                      tweet_mode='extended',\n",
    "                      result_type='mixed').items(maxcount)\n",
    "    \n",
    "    list1 = [[tweet.id, tweet.created_at, tweet.full_text] for tweet in tweets]\n",
    "    list2 = []\n",
    "    \n",
    "    if len(list1)<maxcount:      # if the Twitter API approach doesn't pull enough tweets\n",
    "        \n",
    "        supply_count=maxcount-len(list1)      # how many more tweets we want\n",
    "    \n",
    "        for i,tweet in enumerate(sntwitter.TwitterSearchScraper(query +' -filter:retweets since:'+ date +' until:'+ date1 +' lang:en').get_items()):\n",
    "            if i>=supply_count:\n",
    "                break\n",
    "            list2.append([tweet.id,tweet.date, tweet.content])\n",
    "        \n",
    "        list1+=list2            # concatenate both list\n",
    "    \n",
    "    return list1\n",
    "    \n",
    "    '''\n",
    "    This function will return a list of lists, each sub-list contains information about the tweet id/date/content\n",
    "    '''\n",
    "    "
   ]
  },
  {
   "cell_type": "markdown",
   "metadata": {},
   "source": [
    "### **Create a list of the dates for the period (event) we want to research on**\n",
    "\n",
    "One troublesome thing about this tweet pulling process is that both methods will pull tweets starting from either the 00:00 of the start date or the 24:00 of the end date (namely, start gathering data based from the very end of the time line), so if we set the date like 2020-09-01 to 2020-09-07 and set we want 50000 tweets, like this: \n",
    "\n",
    "#### **get_tweet('lebron', '2020-09-01', '2020-09-07', 50000)**\n",
    "\n",
    "chances are those 50000 tweets are only going to be on one end (like all in 9/1,2 or 9/6,7).\n",
    "\n",
    "So we need to iterate through each day."
   ]
  },
  {
   "cell_type": "code",
   "execution_count": 6,
   "metadata": {},
   "outputs": [
    {
     "data": {
      "text/plain": [
       "['2020-09-30',\n",
       " '2020-10-01',\n",
       " '2020-10-02',\n",
       " '2020-10-03',\n",
       " '2020-10-04',\n",
       " '2020-10-05',\n",
       " '2020-10-06',\n",
       " '2020-10-07',\n",
       " '2020-10-08',\n",
       " '2020-10-09',\n",
       " '2020-10-10',\n",
       " '2020-10-11',\n",
       " '2020-10-12',\n",
       " '2020-10-13',\n",
       " '2020-10-14',\n",
       " '2020-10-15']"
      ]
     },
     "execution_count": 6,
     "metadata": {},
     "output_type": "execute_result"
    }
   ],
   "source": [
    "l=[]\n",
    "for i in pd.date_range('2020-09-30',periods=16, freq='D'):\n",
    "    l.append(str(i)[0:10])\n",
    "    \n",
    "l           # this is the duration dates for the 2020 nba finals"
   ]
  },
  {
   "cell_type": "markdown",
   "metadata": {},
   "source": [
    "#### **Then iterate through each date**"
   ]
  },
  {
   "cell_type": "code",
   "execution_count": 7,
   "metadata": {},
   "outputs": [
    {
     "data": {
      "text/html": [
       "<div>\n",
       "<style scoped>\n",
       "    .dataframe tbody tr th:only-of-type {\n",
       "        vertical-align: middle;\n",
       "    }\n",
       "\n",
       "    .dataframe tbody tr th {\n",
       "        vertical-align: top;\n",
       "    }\n",
       "\n",
       "    .dataframe thead th {\n",
       "        text-align: right;\n",
       "    }\n",
       "</style>\n",
       "<table border=\"1\" class=\"dataframe\">\n",
       "  <thead>\n",
       "    <tr style=\"text-align: right;\">\n",
       "      <th></th>\n",
       "      <th>id</th>\n",
       "      <th>date</th>\n",
       "      <th>text</th>\n",
       "    </tr>\n",
       "  </thead>\n",
       "  <tbody>\n",
       "    <tr>\n",
       "      <th>0</th>\n",
       "      <td>1311455787101949952</td>\n",
       "      <td>2020-09-30 23:59:59+00:00</td>\n",
       "      <td>#QuestionOfTheDay \\nWho will win game 1 of the...</td>\n",
       "    </tr>\n",
       "    <tr>\n",
       "      <th>1</th>\n",
       "      <td>1311455785973624833</td>\n",
       "      <td>2020-09-30 23:59:59+00:00</td>\n",
       "      <td>@8lackJezus @WokeLotus @egchico3 @WoaXMamba @s...</td>\n",
       "    </tr>\n",
       "    <tr>\n",
       "      <th>2</th>\n",
       "      <td>1311455776221941762</td>\n",
       "      <td>2020-09-30 23:59:57+00:00</td>\n",
       "      <td>@netorarefanclub @nigel_dylan @stephenasmith @...</td>\n",
       "    </tr>\n",
       "    <tr>\n",
       "      <th>3</th>\n",
       "      <td>1311455758777806849</td>\n",
       "      <td>2020-09-30 23:59:53+00:00</td>\n",
       "      <td>@stephenasmith @KingJames Why still debate thi...</td>\n",
       "    </tr>\n",
       "    <tr>\n",
       "      <th>4</th>\n",
       "      <td>1311455748673744896</td>\n",
       "      <td>2020-09-30 23:59:50+00:00</td>\n",
       "      <td>@Homeoffree61 How about Stephen Colbert Alec B...</td>\n",
       "    </tr>\n",
       "  </tbody>\n",
       "</table>\n",
       "</div>"
      ],
      "text/plain": [
       "                    id                      date  \\\n",
       "0  1311455787101949952 2020-09-30 23:59:59+00:00   \n",
       "1  1311455785973624833 2020-09-30 23:59:59+00:00   \n",
       "2  1311455776221941762 2020-09-30 23:59:57+00:00   \n",
       "3  1311455758777806849 2020-09-30 23:59:53+00:00   \n",
       "4  1311455748673744896 2020-09-30 23:59:50+00:00   \n",
       "\n",
       "                                                text  \n",
       "0  #QuestionOfTheDay \\nWho will win game 1 of the...  \n",
       "1  @8lackJezus @WokeLotus @egchico3 @WoaXMamba @s...  \n",
       "2  @netorarefanclub @nigel_dylan @stephenasmith @...  \n",
       "3  @stephenasmith @KingJames Why still debate thi...  \n",
       "4  @Homeoffree61 How about Stephen Colbert Alec B...  "
      ]
     },
     "execution_count": 7,
     "metadata": {},
     "output_type": "execute_result"
    }
   ],
   "source": [
    "tweets_list=[]\n",
    "\n",
    "for j in range(len(l)-1):\n",
    "    s=l[j]\n",
    "    e=l[j+1]\n",
    "    t=get_tweet('Lebron',s,e,100)       # how many tweets we want for each day, here the 100 is just for example\n",
    "    tweets_list += t\n",
    "\n",
    "df=pd.DataFrame(tweets_list,columns=['id','date','text'])\n",
    "df.head()\n",
    "    \n",
    "# So here, the dataframe should contain the tweet data with 100 tweets for each day during the period "
   ]
  },
  {
   "cell_type": "markdown",
   "metadata": {},
   "source": [
    "### **Then save the data into csv file**"
   ]
  },
  {
   "cell_type": "code",
   "execution_count": 8,
   "metadata": {},
   "outputs": [],
   "source": [
    "df.to_csv('name of the file.csv',index=False)"
   ]
  },
  {
   "cell_type": "markdown",
   "metadata": {},
   "source": [
    "### **For those who don't have a Twitter developer account, this is the alternative approach that solely use snscrape module to scrape tweets**"
   ]
  },
  {
   "cell_type": "code",
   "execution_count": 9,
   "metadata": {},
   "outputs": [
    {
     "data": {
      "text/html": [
       "<div>\n",
       "<style scoped>\n",
       "    .dataframe tbody tr th:only-of-type {\n",
       "        vertical-align: middle;\n",
       "    }\n",
       "\n",
       "    .dataframe tbody tr th {\n",
       "        vertical-align: top;\n",
       "    }\n",
       "\n",
       "    .dataframe thead th {\n",
       "        text-align: right;\n",
       "    }\n",
       "</style>\n",
       "<table border=\"1\" class=\"dataframe\">\n",
       "  <thead>\n",
       "    <tr style=\"text-align: right;\">\n",
       "      <th></th>\n",
       "      <th>id</th>\n",
       "      <th>date</th>\n",
       "      <th>text</th>\n",
       "    </tr>\n",
       "  </thead>\n",
       "  <tbody>\n",
       "    <tr>\n",
       "      <th>0</th>\n",
       "      <td>1311455787101949952</td>\n",
       "      <td>2020-09-30 23:59:59+00:00</td>\n",
       "      <td>#QuestionOfTheDay \\nWho will win game 1 of the...</td>\n",
       "    </tr>\n",
       "    <tr>\n",
       "      <th>1</th>\n",
       "      <td>1311455785973624833</td>\n",
       "      <td>2020-09-30 23:59:59+00:00</td>\n",
       "      <td>@8lackJezus @WokeLotus @egchico3 @WoaXMamba @s...</td>\n",
       "    </tr>\n",
       "    <tr>\n",
       "      <th>2</th>\n",
       "      <td>1311455776221941762</td>\n",
       "      <td>2020-09-30 23:59:57+00:00</td>\n",
       "      <td>@netorarefanclub @nigel_dylan @stephenasmith @...</td>\n",
       "    </tr>\n",
       "    <tr>\n",
       "      <th>3</th>\n",
       "      <td>1311455758777806849</td>\n",
       "      <td>2020-09-30 23:59:53+00:00</td>\n",
       "      <td>@stephenasmith @KingJames Why still debate thi...</td>\n",
       "    </tr>\n",
       "    <tr>\n",
       "      <th>4</th>\n",
       "      <td>1311455748673744896</td>\n",
       "      <td>2020-09-30 23:59:50+00:00</td>\n",
       "      <td>@Homeoffree61 How about Stephen Colbert Alec B...</td>\n",
       "    </tr>\n",
       "  </tbody>\n",
       "</table>\n",
       "</div>"
      ],
      "text/plain": [
       "                    id                      date  \\\n",
       "0  1311455787101949952 2020-09-30 23:59:59+00:00   \n",
       "1  1311455785973624833 2020-09-30 23:59:59+00:00   \n",
       "2  1311455776221941762 2020-09-30 23:59:57+00:00   \n",
       "3  1311455758777806849 2020-09-30 23:59:53+00:00   \n",
       "4  1311455748673744896 2020-09-30 23:59:50+00:00   \n",
       "\n",
       "                                                text  \n",
       "0  #QuestionOfTheDay \\nWho will win game 1 of the...  \n",
       "1  @8lackJezus @WokeLotus @egchico3 @WoaXMamba @s...  \n",
       "2  @netorarefanclub @nigel_dylan @stephenasmith @...  \n",
       "3  @stephenasmith @KingJames Why still debate thi...  \n",
       "4  @Homeoffree61 How about Stephen Colbert Alec B...  "
      ]
     },
     "execution_count": 9,
     "metadata": {},
     "output_type": "execute_result"
    }
   ],
   "source": [
    "tweets_list=[]\n",
    "\n",
    "for j in range(len(l)-1):\n",
    "    s=l[j]\n",
    "    e=l[j+1]\n",
    "    t=[]\n",
    "    \n",
    "    for i,tweet in enumerate(sntwitter.TwitterSearchScraper('lebron james' + ' -filter:retweets' + ' since:' + s +' until:' + e +' lang:en').get_items()):\n",
    "        if i>=100:                                # how many we want for each day     \n",
    "            break\n",
    "        t.append([tweet.id,tweet.date,tweet.content])\n",
    "    \n",
    "    tweets_list += t\n",
    "    \n",
    "pd.DataFrame(tweets_list,columns=['id','date','text']).head()"
   ]
  },
  {
   "cell_type": "markdown",
   "metadata": {},
   "source": [
    "### **Below are the code we ran for pulling data**\n",
    "\n",
    "For each topic, the \"l\" list has been set to the duration of each events/topics we want to research, and the desired daily count is set depending on the topic and length of the time duration. But since we filter out retweets, on many occasions some date it won't satisfy the count. (for example during the 2020 world series, other than the game 1 & 5 that Clayton Kershaw started for the Dodgers, for the other days the count of the tweets with 'clayton kershaw' are far less)\n",
    "\n",
    "This situation will be taken into account during the analysis part, if some days the total tweet count are too few, we might ignore and only focus on the dates that there're sufficient amount of tweets."
   ]
  },
  {
   "cell_type": "code",
   "execution_count": null,
   "metadata": {},
   "outputs": [],
   "source": [
    "# For each topic, the base code look like this\n",
    "\n",
    "tweets_list=[]\n",
    "\n",
    "for j in range(len(l)-1):\n",
    "    s=l[j]\n",
    "    e=l[j+1]\n",
    "    t=    # get_tweet(....)\n",
    "    tweets_list += t\n",
    "    \n",
    "df = pd.DataFrame(tweets_list,columns=['id','date','tweet'])\n",
    "df.to_csv(\"filename.csv\",index=False)\n",
    "\n",
    "    \n",
    "# The only difference would be the setting of the get_tweet() function, and below and the setting for each topics\n",
    "\n",
    "    \n",
    "# for simone biles olympics       from 2021/7/22 ~ 2021/8/8 \n",
    "get_tweet('simone biles',s,e,50000)        # idealy we hope to get 50000 tweets each day during the period of olympics\n",
    "\n",
    "# kershaw 2020 World series      from 2020/10/18 ~ 2020/10/31\n",
    "get_tweet('clayton kershaw',s,e,30000)\n",
    "\n",
    "# lebron 2020 playoffs          from 2020/8/17 ~ 2020/10/12\n",
    "get_tweet('lebron james',s,e,10000)\n",
    "\n",
    "# lebron 2020 finals            from 2020/9/30 ~ 2020/10/14 \n",
    "get_tweet('LeBron',s,e,100000)\n",
    "\n",
    "# 2020 nba finals               from 2020/9/30 ~ 2020/10/12\n",
    "get_tweet('NBAFinals',s,e,50000)\n",
    "\n",
    "# 2020 world series             from 2020/10/18 ~ 2020/10/31\n",
    "get_tweet('WorldSeries',s,e,50000)"
   ]
  },
  {
   "cell_type": "code",
   "execution_count": null,
   "metadata": {},
   "outputs": [],
   "source": []
  }
 ],
 "metadata": {
  "kernelspec": {
   "display_name": "Python 3",
   "language": "python",
   "name": "python3"
  },
  "language_info": {
   "codemirror_mode": {
    "name": "ipython",
    "version": 3
   },
   "file_extension": ".py",
   "mimetype": "text/x-python",
   "name": "python",
   "nbconvert_exporter": "python",
   "pygments_lexer": "ipython3",
   "version": "3.7.3"
  }
 },
 "nbformat": 4,
 "nbformat_minor": 2
}
